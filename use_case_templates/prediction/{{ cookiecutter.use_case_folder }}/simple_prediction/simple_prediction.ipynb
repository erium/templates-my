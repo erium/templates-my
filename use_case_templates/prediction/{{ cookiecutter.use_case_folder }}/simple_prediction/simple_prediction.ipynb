{
 "cells": [
  {
   "attachments": {},
   "cell_type": "markdown",
   "connections": [],
   "execution_count": 0,
   "metadata": {
    "id": "0d54a0e3-dcc6-460d-9789-930a3ae3a5a9"
   },
   "outputs": [],
   "source": [
    "# Simple Prediction\n",
    "\n",
    "This is a template notebook for simple prediction modelling.\n",
    "\n",
    "Author: {{ cookiecutter.author_name }}\n",
    "Created: {{ cookiecutter.timestamp }}"
   ]
  },
  {
   "attachments": {},
   "cell_type": "markdown",
   "connections": [],
   "execution_count": 0,
   "metadata": {
    "id": "690a49c9-4e12-4cc1-8f86-488d36cdbb6f"
   },
   "outputs": [],
   "source": [
    "## How to use the notebook\n",
    "\n",
    "The following cells:\n",
    "- specify data filepath, target variable name, and target variable type,\n",
    "- read dataset,\n",
    "- set up the lazypredict and autokeras models,\n",
    "- present results from the models,\n",
    "- provide the model with the best performance.\n",
    "\n",
    "By default, the notebook is set up to run with an example (sklearn breast cancer). To see how it works, run the notebook without changing the code.\n",
    "\n",
    "For your project, adjust the code in the User Inputs cell with your target variable, data filepath etc. and then execute all cells in order."
   ]
  },
  {
   "attachments": {},
   "cell_type": "markdown",
   "connections": [],
   "execution_count": 0,
   "metadata": {
    "id": "18a74192-aa35-4615-b79d-cc82e1a8a8f7"
   },
   "outputs": [],
   "source": [
    "## Imports"
   ]
  },
  {
   "attachments": {},
   "cell_type": "code",
   "connections": [],
   "execution_count": 0,
   "metadata": {
    "id": "4899bcc5-e8a9-4ff1-8507-12e8bc035b88"
   },
   "outputs": [],
   "source": [
    "!pip install lazypredict"
   ]
  },
  {
   "attachments": {},
   "cell_type": "code",
   "connections": [],
   "execution_count": 0,
   "metadata": {
    "id": "726f822f-6848-4e4c-afbd-716c2bd01764"
   },
   "outputs": [],
   "source": [
    "!pip install autokeras"
   ]
  },
  {
   "cell_type": "code",
   "connections": [],
   "execution_count": 0,
   "metadata": {
    "id": "2745e30a-ba7f-40dc-b676-a77de785a1f2"
   },
   "outputs": [],
   "source": [
    "import os\n",
    "import numpy as np\n",
    "import pandas as pd\n",
    "\n",
    "from sklearn.model_selection import train_test_split\n",
    "\n",
    "from functions.simple_predict import SimplePredict, get_example_data"
   ]
  },
  {
   "attachments": {},
   "cell_type": "markdown",
   "connections": [],
   "execution_count": 0,
   "metadata": {
    "id": "077f8442-3b21-4ee4-b7ff-b73d4eef884d"
   },
   "outputs": [],
   "source": [
    "## User Inputs"
   ]
  },
  {
   "attachments": {},
   "cell_type": "code",
   "connections": [],
   "execution_count": 0,
   "metadata": {
    "id": "d63b9cdf-bd6b-48f0-9572-825775856f57"
   },
   "outputs": [],
   "source": [
    "filepath = \"default classification\" # Filepath of data csv\n",
    "target = \"target\" # Name of target column\n",
    "continuous_target = False # True if continuous, False if categorical\n",
    "lazypredict_save_filepath = \"pipeline.joblib\" # Filepath to save final lazypredict pipeline artefact\n",
    "autokeras_save_name = \"autokeras\" # Name to save final autokeras model"
   ]
  },
  {
   "attachments": {},
   "cell_type": "markdown",
   "connections": [],
   "execution_count": 0,
   "metadata": {
    "id": "af9416b7-73db-4dd4-92ac-abbcf7e2b9bd"
   },
   "outputs": [],
   "source": [
    "End of User Inputs"
   ]
  },
  {
   "attachments": {},
   "cell_type": "code",
   "connections": [],
   "execution_count": 0,
   "metadata": {
    "id": "0e14672e-1fa3-4f23-a688-7fdba98a5f20"
   },
   "outputs": [],
   "source": [
    "if filepath == \"default regression\" or \"default classification\":\n",
    "    filepath = get_example_data(filepath)"
   ]
  },
  {
   "attachments": {},
   "cell_type": "markdown",
   "connections": [],
   "execution_count": 0,
   "metadata": {
    "id": "6ea9491c-dfc9-46fb-9672-fefba22a5d70"
   },
   "outputs": [],
   "source": [
    "Instantiate SimplePredict instance"
   ]
  },
  {
   "attachments": {},
   "cell_type": "code",
   "connections": [],
   "execution_count": 0,
   "metadata": {
    "id": "f1411f28-6d8e-4f8c-94ad-857e5ae7612c"
   },
   "outputs": [],
   "source": [
    "simple = SimplePredict(filepath, target, continuous_target)"
   ]
  },
  {
   "attachments": {},
   "cell_type": "markdown",
   "connections": [],
   "execution_count": 0,
   "metadata": {
    "id": "b2dece11-f7dc-465b-ac27-9343a41801ab"
   },
   "outputs": [],
   "source": [
    "Import Data"
   ]
  },
  {
   "attachments": {},
   "cell_type": "code",
   "connections": [],
   "execution_count": 0,
   "metadata": {
    "id": "db2d06cc-bcd6-4ffa-a688-f10b77e0f103"
   },
   "outputs": [],
   "source": [
    "X, y = simple.read_data()"
   ]
  },
  {
   "attachments": {},
   "cell_type": "code",
   "connections": [],
   "execution_count": 0,
   "metadata": {
    "id": "d7a286c6-971c-40d9-8230-b18c9ffcf672"
   },
   "outputs": [],
   "source": [
    "X"
   ]
  },
  {
   "attachments": {},
   "cell_type": "code",
   "connections": [],
   "execution_count": 0,
   "metadata": {
    "id": "0341b3de-f873-4ec9-a331-9a73cdea0f07"
   },
   "outputs": [],
   "source": [
    "y"
   ]
  },
  {
   "attachments": {},
   "cell_type": "markdown",
   "connections": [],
   "execution_count": 0,
   "metadata": {
    "id": "1bf8c007-debe-49e4-b638-c1d1157d9b54"
   },
   "outputs": [],
   "source": [
    "Split into training and testing data"
   ]
  },
  {
   "attachments": {},
   "cell_type": "code",
   "connections": [],
   "execution_count": 0,
   "metadata": {
    "id": "5d9f1998-dbae-4397-b2be-d879a3109184"
   },
   "outputs": [],
   "source": [
    "X_train, X_test, y_train, y_test = train_test_split(X, y,test_size=0.2)"
   ]
  },
  {
   "attachments": {},
   "cell_type": "markdown",
   "connections": [],
   "execution_count": 0,
   "metadata": {
    "id": "5f297580-594c-43e1-9de7-c11519a330db"
   },
   "outputs": [],
   "source": [
    "### Lazypredict"
   ]
  },
  {
   "attachments": {},
   "cell_type": "markdown",
   "connections": [],
   "execution_count": 0,
   "metadata": {
    "id": "3d1122fe-9941-4fec-9b3d-feaf452dca2b"
   },
   "outputs": [],
   "source": [
    "Get predictor"
   ]
  },
  {
   "attachments": {},
   "cell_type": "code",
   "connections": [],
   "execution_count": 0,
   "metadata": {
    "id": "124def69-5411-4805-86db-76714ea3706b"
   },
   "outputs": [],
   "source": [
    "lazy = simple.get_lazy()"
   ]
  },
  {
   "attachments": {},
   "cell_type": "markdown",
   "connections": [],
   "execution_count": 0,
   "metadata": {
    "id": "4a307f88-f721-4217-8239-bb57c48f6df4"
   },
   "outputs": [],
   "source": [
    "Fit predictor models and get metrics"
   ]
  },
  {
   "attachments": {},
   "cell_type": "code",
   "connections": [],
   "execution_count": 0,
   "metadata": {
    "id": "901c7ca2-646b-4533-8741-85990ad11eb8"
   },
   "outputs": [],
   "source": [
    "# Some models may fail to execute depending on the data\n",
    "metrics, predictions = lazy.fit(X_train, X_test, y_train, y_test)"
   ]
  },
  {
   "attachments": {},
   "cell_type": "markdown",
   "connections": [],
   "execution_count": 0,
   "metadata": {
    "id": "53bf4383-d8e1-4ee7-a6fc-56c7d2109bf8"
   },
   "outputs": [],
   "source": [
    "### Autokeras\n",
    "Trains a neural network (might take some time)"
   ]
  },
  {
   "attachments": {},
   "cell_type": "code",
   "connections": [],
   "execution_count": 0,
   "metadata": {
    "id": "eeaadc2c-111b-414b-a034-e48419c790a9"
   },
   "outputs": [],
   "source": [
    "auto = simple.get_autokeras()"
   ]
  },
  {
   "attachments": {},
   "cell_type": "code",
   "connections": [],
   "execution_count": 0,
   "metadata": {
    "id": "b3554f97-14e5-423f-8287-0936ab3dfa3f"
   },
   "outputs": [],
   "source": [
    "epochs = 10\n",
    "auto.fit(X_train, y_train, validation_data=(X_test, y_test), epochs=epochs)"
   ]
  },
  {
   "attachments": {},
   "cell_type": "markdown",
   "connections": [],
   "execution_count": 0,
   "metadata": {
    "id": "021fa105-9127-447c-ba4a-007e12e2712a"
   },
   "outputs": [],
   "source": [
    "### Model metrics"
   ]
  },
  {
   "attachments": {},
   "cell_type": "markdown",
   "connections": [],
   "execution_count": 0,
   "metadata": {
    "id": "38e643c2-3319-4544-90c5-c9f96c050e78"
   },
   "outputs": [],
   "source": [
    "Lazy Predict"
   ]
  },
  {
   "attachments": {},
   "cell_type": "code",
   "connections": [],
   "execution_count": 0,
   "metadata": {
    "id": "26e49404-eac9-4664-9a89-61dde84cbea7"
   },
   "outputs": [],
   "source": [
    "metrics"
   ]
  },
  {
   "attachments": {},
   "cell_type": "code",
   "connections": [],
   "execution_count": 0,
   "metadata": {
    "id": "6227f8d7-c8f0-4355-84a7-4e7eff2619fd"
   },
   "outputs": [],
   "source": [
    "top = 20\n",
    "\n",
    "simple.plot_top_metrics(top, metrics)"
   ]
  },
  {
   "attachments": {},
   "cell_type": "code",
   "connections": [],
   "execution_count": 0,
   "metadata": {
    "id": "ca1a8e91-d813-4bc6-bf63-ec8e00054a8c"
   },
   "outputs": [],
   "source": [
    "simple.model_scores(\"Best\", metrics)"
   ]
  },
  {
   "attachments": {},
   "cell_type": "code",
   "connections": [],
   "execution_count": 0,
   "metadata": {
    "id": "df2b248d-50c6-44c4-9a04-777e6d01aa1d"
   },
   "outputs": [],
   "source": [
    "simple.model_prediction(\"Best\", metrics.index[0], predictions, y_test)"
   ]
  },
  {
   "attachments": {},
   "cell_type": "markdown",
   "connections": [],
   "execution_count": 0,
   "metadata": {
    "id": "1afc3d5a-fb9e-47c4-ae44-fa148df93ee7"
   },
   "outputs": [],
   "source": [
    "Autokeras"
   ]
  },
  {
   "attachments": {},
   "cell_type": "code",
   "connections": [],
   "execution_count": 0,
   "metadata": {
    "id": "56b8fd2b-dcd0-4f14-9a3b-1e19c294d883"
   },
   "outputs": [],
   "source": [
    "autokeras_predicted_y = auto.predict(X_test)\n",
    "autokeras_predicted_y"
   ]
  },
  {
   "attachments": {},
   "cell_type": "code",
   "connections": [],
   "execution_count": 0,
   "metadata": {
    "id": "ca57cd97-5ab6-4a58-b336-d49ac1ee9a95"
   },
   "outputs": [],
   "source": [
    "simple.autokeras_scores(auto, X_test, y_test)"
   ]
  },
  {
   "attachments": {},
   "cell_type": "markdown",
   "connections": [],
   "execution_count": 0,
   "metadata": {
    "id": "358578fb-86b5-405f-8f81-3c8a664bb813"
   },
   "outputs": [],
   "source": [
    "### Get pipeline/model artefact"
   ]
  },
  {
   "attachments": {},
   "cell_type": "code",
   "connections": [],
   "execution_count": 0,
   "metadata": {
    "id": "d8591328-3807-45a5-a08c-5e6016dc56dc"
   },
   "outputs": [],
   "source": [
    "# Get pipeline for specified model (Default best model)\n",
    "# Can call predict() on pipeline object to get prediction from raw X data\n",
    "pipeline = simple.get_model_pipeline(\"Best\", metrics, lazy.models)\n",
    "pipeline"
   ]
  },
  {
   "attachments": {},
   "cell_type": "markdown",
   "connections": [],
   "execution_count": 0,
   "metadata": {
    "id": "00b90d4e-d4c9-4fdd-99c2-9a1752c92368"
   },
   "outputs": [],
   "source": [
    "Create artificats folder if it does not exist"
   ]
  },
  {
   "attachments": {},
   "cell_type": "code",
   "connections": [],
   "execution_count": 0,
   "metadata": {
    "id": "5c27ef3e-d263-4616-86e7-370feb4c30d6"
   },
   "outputs": [],
   "source": [
    "isExist = os.path.exists('./artifacts')\n",
    "if not isExist:\n",
    "   os.makedirs('./artifacts')"
   ]
  },
  {
   "attachments": {},
   "cell_type": "markdown",
   "connections": [],
   "execution_count": 0,
   "metadata": {
    "id": "bb4e15a4-da96-410d-91c9-214e9c78ba48"
   },
   "outputs": [],
   "source": [
    "Save pipeline object as joblib artefact"
   ]
  },
  {
   "attachments": {},
   "cell_type": "code",
   "connections": [],
   "execution_count": 0,
   "metadata": {
    "id": "71760d49-ec38-4ba6-91b7-a39bf34dc02e"
   },
   "outputs": [],
   "source": [
    "simple.save_pipeline(pipeline, 'artifacts/' + lazypredict_save_filepath)"
   ]
  },
  {
   "attachments": {},
   "cell_type": "markdown",
   "connections": [],
   "execution_count": 0,
   "metadata": {
    "id": "48ede832-71ed-47df-88cc-671e258638b2"
   },
   "outputs": [],
   "source": [
    "Save autokeras model as a keras model"
   ]
  },
  {
   "attachments": {},
   "cell_type": "code",
   "connections": [],
   "execution_count": 0,
   "metadata": {
    "id": "1093ad05-9810-42bb-b9c4-16b0497ab0b5"
   },
   "outputs": [],
   "source": [
    "model = auto.export_model()\n",
    "model.save('artifacts/' + autokeras_save_name)"
   ]
  }
 ],
 "metadata": {},
 "nbformat": 4,
 "nbformat_minor": 0
}
