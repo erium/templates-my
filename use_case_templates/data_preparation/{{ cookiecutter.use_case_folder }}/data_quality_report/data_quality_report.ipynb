{
 "cells": [
  {
   "cell_type": "markdown",
   "connections": [],
   "execution_count": 0,
   "metadata": {
    "id": "c48b0ad0-4887-4574-8162-737311081899"
   },
   "outputs": [],
   "source": [
    "# Data Quality Report\n",
    "\n",
    "This is a template notebook to automatically generate a data quality assessment report.\n",
    "\n",
    "Author: {{ cookiecutter.author_name }}\n",
    "Created: {{ cookiecutter.timestamp }}"
   ]
  },
  {
   "attachments": {},
   "cell_type": "markdown",
   "connections": [],
   "execution_count": 0,
   "metadata": {
    "id": "2bc6df14-522f-4e17-82dc-2b22e7c9b18d"
   },
   "outputs": [],
   "source": [
    "## How to use the notebook\n",
    "\n",
    "The following cells:\n",
    "- specify the data filepath, if you would like to generate a full or short report, and the name of the time series index column if available\n",
    "- generate the report artifacts,\n",
    "    - data features\n",
    "    - plots and figures\n",
    "- generate the report in markdown,\n",
    "- convert the markdown report to html\n",
    "\n",
    "By default, the notebook is set up to run with an example (Iris). To see how it works, run the notebook without changing the code.\n",
    "\n",
    "It will generate two files:\n",
    "- data_quality_report.md\n",
    "- data_quality_report.html\n",
    "    - Note: Save generated html as a .html file to save and view plots and artifacts locally.\n",
    "    - **Please save this html as it will be overwritten when the notebook is rerun.**\n",
    "\n",
    "For your project, adjust the code with your data filepath and then execute cells in the order you wish to process your data."
   ]
  },
  {
   "attachments": {},
   "cell_type": "code",
   "connections": [],
   "execution_count": 0,
   "metadata": {
    "id": "7fdd1481-f74a-4447-a153-702183202b87"
   },
   "outputs": [],
   "source": [
    "!pip install mdutils"
   ]
  },
  {
   "attachments": {},
   "cell_type": "code",
   "connections": [],
   "execution_count": 0,
   "metadata": {
    "id": "9a870821-3cee-4132-8a3c-249089c519f5"
   },
   "outputs": [],
   "source": [
    "# Filename of your data in the ./data folder without ./data prefix\n",
    "filename = \"default_time_series\"\n",
    "# Flag to generate full or short report\n",
    "generate_full_report = True\n",
    "# Name of time series index column (False if not available)\n",
    "time_series_column = 'date'"
   ]
  },
  {
   "attachments": {},
   "cell_type": "markdown",
   "connections": [],
   "execution_count": 0,
   "metadata": {
    "id": "ae59e55d-e4c4-4a06-b9ac-1ee7934b9d90"
   },
   "outputs": [],
   "source": [
    "# Generates artifacts\n",
    "- Data features\n",
    "- Plots and figures"
   ]
  },
  {
   "attachments": {},
   "cell_type": "code",
   "connections": [],
   "execution_count": 0,
   "metadata": {
    "id": "25f031d2-d1e7-4601-8f6f-4b1c4fcc067b"
   },
   "outputs": [],
   "source": [
    "!python scripts/01_generate_artifacts.py {filename} {generate_full_report} {time_series_column}"
   ]
  },
  {
   "attachments": {},
   "cell_type": "markdown",
   "connections": [],
   "execution_count": 0,
   "metadata": {
    "id": "067c9957-9da4-49ac-8478-9093f742ccbd"
   },
   "outputs": [],
   "source": [
    "# Generate Report\n",
    "In Markdown .md"
   ]
  },
  {
   "attachments": {},
   "cell_type": "code",
   "connections": [],
   "execution_count": 0,
   "metadata": {
    "id": "57372ab2-d675-4008-95bc-009130cd336d"
   },
   "outputs": [],
   "source": [
    "!python scripts/02_generate_report.py"
   ]
  },
  {
   "attachments": {},
   "cell_type": "markdown",
   "connections": [],
   "execution_count": 0,
   "metadata": {
    "id": "3d24972f-c1a4-4c42-a685-a291f8cbcbbc"
   },
   "outputs": [],
   "source": [
    "# Convert Markdown file to html"
   ]
  },
  {
   "attachments": {},
   "cell_type": "code",
   "connections": [],
   "execution_count": 0,
   "metadata": {
    "id": "5b8aa142-b592-41af-92a3-8efa8c397a8e"
   },
   "outputs": [],
   "source": [
    "!python scripts/03_convert_to_html.py"
   ]
  }
 ],
 "metadata": {},
 "nbformat": 4,
 "nbformat_minor": 0
}
